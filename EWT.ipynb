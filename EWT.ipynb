{
  "nbformat": 4,
  "nbformat_minor": 0,
  "metadata": {
    "colab": {
      "name": "EWT.ipynb",
      "provenance": [],
      "collapsed_sections": []
    },
    "kernelspec": {
      "name": "python3",
      "display_name": "Python 3"
    },
    "widgets": {
      "application/vnd.jupyter.widget-state+json": {
        "38623e092cfd40fcbff02bb5bf78e4a9": {
          "model_module": "@jupyter-widgets/controls",
          "model_name": "HBoxModel",
          "state": {
            "_view_name": "HBoxView",
            "_dom_classes": [],
            "_model_name": "HBoxModel",
            "_view_module": "@jupyter-widgets/controls",
            "_model_module_version": "1.5.0",
            "_view_count": null,
            "_view_module_version": "1.5.0",
            "box_style": "",
            "layout": "IPY_MODEL_2a0e925dd6d54a98a18bb74caa9ad4a9",
            "_model_module": "@jupyter-widgets/controls",
            "children": [
              "IPY_MODEL_4c36bcb39d5e44d7afe0bb0bd4db7061",
              "IPY_MODEL_2dd4a549a0cd498b8df7adaf812ea46d"
            ]
          }
        },
        "2a0e925dd6d54a98a18bb74caa9ad4a9": {
          "model_module": "@jupyter-widgets/base",
          "model_name": "LayoutModel",
          "state": {
            "_view_name": "LayoutView",
            "grid_template_rows": null,
            "right": null,
            "justify_content": null,
            "_view_module": "@jupyter-widgets/base",
            "overflow": null,
            "_model_module_version": "1.2.0",
            "_view_count": null,
            "flex_flow": null,
            "width": null,
            "min_width": null,
            "border": null,
            "align_items": null,
            "bottom": null,
            "_model_module": "@jupyter-widgets/base",
            "top": null,
            "grid_column": null,
            "overflow_y": null,
            "overflow_x": null,
            "grid_auto_flow": null,
            "grid_area": null,
            "grid_template_columns": null,
            "flex": null,
            "_model_name": "LayoutModel",
            "justify_items": null,
            "grid_row": null,
            "max_height": null,
            "align_content": null,
            "visibility": null,
            "align_self": null,
            "height": null,
            "min_height": null,
            "padding": null,
            "grid_auto_rows": null,
            "grid_gap": null,
            "max_width": null,
            "order": null,
            "_view_module_version": "1.2.0",
            "grid_template_areas": null,
            "object_position": null,
            "object_fit": null,
            "grid_auto_columns": null,
            "margin": null,
            "display": null,
            "left": null
          }
        },
        "4c36bcb39d5e44d7afe0bb0bd4db7061": {
          "model_module": "@jupyter-widgets/controls",
          "model_name": "FloatProgressModel",
          "state": {
            "_view_name": "ProgressView",
            "style": "IPY_MODEL_92272c1a5d5c4737ab8f9c31d78d522d",
            "_dom_classes": [],
            "description": " 23%",
            "_model_name": "FloatProgressModel",
            "bar_style": "",
            "max": 247689,
            "_view_module": "@jupyter-widgets/controls",
            "_model_module_version": "1.5.0",
            "value": 55923,
            "_view_count": null,
            "_view_module_version": "1.5.0",
            "orientation": "horizontal",
            "min": 0,
            "description_tooltip": null,
            "_model_module": "@jupyter-widgets/controls",
            "layout": "IPY_MODEL_1b24f208beb440f69c3cd5c9de7b6963"
          }
        },
        "2dd4a549a0cd498b8df7adaf812ea46d": {
          "model_module": "@jupyter-widgets/controls",
          "model_name": "HTMLModel",
          "state": {
            "_view_name": "HTMLView",
            "style": "IPY_MODEL_b5e55fcdd88249eeacc4e4f3114cad72",
            "_dom_classes": [],
            "description": "",
            "_model_name": "HTMLModel",
            "placeholder": "​",
            "_view_module": "@jupyter-widgets/controls",
            "_model_module_version": "1.5.0",
            "value": " 55923/247689 [14:19&lt;1:55:45, 27.61it/s]",
            "_view_count": null,
            "_view_module_version": "1.5.0",
            "description_tooltip": null,
            "_model_module": "@jupyter-widgets/controls",
            "layout": "IPY_MODEL_f0f10275037a471cb8fbecb1ada72d1c"
          }
        },
        "92272c1a5d5c4737ab8f9c31d78d522d": {
          "model_module": "@jupyter-widgets/controls",
          "model_name": "ProgressStyleModel",
          "state": {
            "_view_name": "StyleView",
            "_model_name": "ProgressStyleModel",
            "description_width": "initial",
            "_view_module": "@jupyter-widgets/base",
            "_model_module_version": "1.5.0",
            "_view_count": null,
            "_view_module_version": "1.2.0",
            "bar_color": null,
            "_model_module": "@jupyter-widgets/controls"
          }
        },
        "1b24f208beb440f69c3cd5c9de7b6963": {
          "model_module": "@jupyter-widgets/base",
          "model_name": "LayoutModel",
          "state": {
            "_view_name": "LayoutView",
            "grid_template_rows": null,
            "right": null,
            "justify_content": null,
            "_view_module": "@jupyter-widgets/base",
            "overflow": null,
            "_model_module_version": "1.2.0",
            "_view_count": null,
            "flex_flow": null,
            "width": null,
            "min_width": null,
            "border": null,
            "align_items": null,
            "bottom": null,
            "_model_module": "@jupyter-widgets/base",
            "top": null,
            "grid_column": null,
            "overflow_y": null,
            "overflow_x": null,
            "grid_auto_flow": null,
            "grid_area": null,
            "grid_template_columns": null,
            "flex": null,
            "_model_name": "LayoutModel",
            "justify_items": null,
            "grid_row": null,
            "max_height": null,
            "align_content": null,
            "visibility": null,
            "align_self": null,
            "height": null,
            "min_height": null,
            "padding": null,
            "grid_auto_rows": null,
            "grid_gap": null,
            "max_width": null,
            "order": null,
            "_view_module_version": "1.2.0",
            "grid_template_areas": null,
            "object_position": null,
            "object_fit": null,
            "grid_auto_columns": null,
            "margin": null,
            "display": null,
            "left": null
          }
        },
        "b5e55fcdd88249eeacc4e4f3114cad72": {
          "model_module": "@jupyter-widgets/controls",
          "model_name": "DescriptionStyleModel",
          "state": {
            "_view_name": "StyleView",
            "_model_name": "DescriptionStyleModel",
            "description_width": "",
            "_view_module": "@jupyter-widgets/base",
            "_model_module_version": "1.5.0",
            "_view_count": null,
            "_view_module_version": "1.2.0",
            "_model_module": "@jupyter-widgets/controls"
          }
        },
        "f0f10275037a471cb8fbecb1ada72d1c": {
          "model_module": "@jupyter-widgets/base",
          "model_name": "LayoutModel",
          "state": {
            "_view_name": "LayoutView",
            "grid_template_rows": null,
            "right": null,
            "justify_content": null,
            "_view_module": "@jupyter-widgets/base",
            "overflow": null,
            "_model_module_version": "1.2.0",
            "_view_count": null,
            "flex_flow": null,
            "width": null,
            "min_width": null,
            "border": null,
            "align_items": null,
            "bottom": null,
            "_model_module": "@jupyter-widgets/base",
            "top": null,
            "grid_column": null,
            "overflow_y": null,
            "overflow_x": null,
            "grid_auto_flow": null,
            "grid_area": null,
            "grid_template_columns": null,
            "flex": null,
            "_model_name": "LayoutModel",
            "justify_items": null,
            "grid_row": null,
            "max_height": null,
            "align_content": null,
            "visibility": null,
            "align_self": null,
            "height": null,
            "min_height": null,
            "padding": null,
            "grid_auto_rows": null,
            "grid_gap": null,
            "max_width": null,
            "order": null,
            "_view_module_version": "1.2.0",
            "grid_template_areas": null,
            "object_position": null,
            "object_fit": null,
            "grid_auto_columns": null,
            "margin": null,
            "display": null,
            "left": null
          }
        }
      }
    }
  },
  "cells": [
    {
      "cell_type": "markdown",
      "metadata": {
        "id": "u_ZsB0raAIUu"
      },
      "source": [
        "## Download Dataset:"
      ]
    },
    {
      "cell_type": "code",
      "metadata": {
        "id": "k4EX8jd2_cZq"
      },
      "source": [
        "!curl --remote-name-all https://lindat.mff.cuni.cz/repository/xmlui/bitstream/handle/11234/1-3424{/ud-treebanks-v2.7.tgz,/ud-documentation-v2.7.tgz,/ud-tools-v2.7.tgz}"
      ],
      "execution_count": null,
      "outputs": []
    },
    {
      "cell_type": "code",
      "metadata": {
        "id": "V99TtbPi_dxC"
      },
      "source": [
        "!tar -xzf ud-treebanks-v2.7.tgz"
      ],
      "execution_count": null,
      "outputs": []
    },
    {
      "cell_type": "markdown",
      "metadata": {
        "id": "FCocZyOSAM6C"
      },
      "source": [
        "## PreProcessing Code"
      ]
    },
    {
      "cell_type": "code",
      "metadata": {
        "id": "aBXC411M3jkk"
      },
      "source": [
        "import numpy as np\n",
        "import tqdm.notebook as tqdm\n",
        "\n",
        "def write_sentences_to_file(s, output_file):\n",
        "    f = open(output_file.split(\".\")[0] + \".txt\", \"w\")\n",
        "    for sentence in s:\n",
        "        f.write(sentence + \"\\n\")\n",
        "    f.close()\n",
        "\n",
        "def create_matrices(path, punctuation=True):\n",
        "    filename = path.split(\"/\")\n",
        "    filename = filename[-1]\n",
        "    res, s = create_adjacency_matrix(path, punctuation=punctuation)\n",
        "\n",
        "    if punctuation:\n",
        "        addendum = \"_punct_\"\n",
        "    else:\n",
        "        addendum = \"_nopunct_\"\n",
        "    np.save(filename.split(\".\")[0]+\"{}.npy\".format(addendum), res)\n",
        "    write_sentences_to_file(s, filename.split(\".\")[0]+\"{}.txt\".format(addendum))\n",
        "\n",
        "def get_matrix(samples):\n",
        "    r = []\n",
        "    s = []\n",
        "    for i, sample in enumerate(samples):\n",
        "        n = len(sample)\n",
        "        #print(\"\\r{}/{}\".format(i+1,n),end=\"\")\n",
        "        adjacency = np.zeros((n,n))\n",
        "        sentence = \" \".join([x[1] for x in sample])\n",
        "        s.append(sentence)\n",
        "        real_id = {search_id: nid for nid, (search_id, *_) in enumerate(sample)}\n",
        "        #print(real_id)\n",
        "        found = True\n",
        "        for j, (id, word, parent_id) in enumerate(sample):\n",
        "      \n",
        "            if parent_id!= 0: # Root word\n",
        "                # get real id for parent\n",
        "                try:\n",
        "                    nid = real_id[parent_id]\n",
        "                except:\n",
        "                    found = False\n",
        "                    break\n",
        "                adjacency[j][nid] = 1.0\n",
        "        if found:\n",
        "            r.append(adjacency)\n",
        "    return r, s\n",
        "\n",
        "def create_adjacency_matrix(filename, punctuation = True):\n",
        "    f = open(filename,\"r\")\n",
        "    data = f.readlines()\n",
        "    f.close()\n",
        "    samples = []\n",
        "    sample = []\n",
        "    for line in tqdm.tqdm(data):\n",
        "        if line[0] == \"#\":\n",
        "            continue\n",
        "        line = line.rstrip()\n",
        "        if line != \"\":\n",
        "            line = line.split(\"\\t\")\n",
        "            if \"-\" in line[0]:\n",
        "                continue\n",
        "            if \".\" in line[0]:\n",
        "                continue\n",
        "            if line[3] == 'PUNCT' and not punctuation:\n",
        "                continue\n",
        "            sample.append([int(line[0]),line[1], int(line[6])]) # Get word and parent id\n",
        "        else:\n",
        "            samples.append(sample)\n",
        "            sample = []\n",
        "        m, s = get_matrix(samples)\n",
        "    return np.array(m, dtype=object), s"
      ],
      "execution_count": null,
      "outputs": []
    },
    {
      "cell_type": "code",
      "metadata": {
        "colab": {
          "base_uri": "https://localhost:8080/",
          "height": 49,
          "referenced_widgets": [
            "38623e092cfd40fcbff02bb5bf78e4a9",
            "2a0e925dd6d54a98a18bb74caa9ad4a9",
            "4c36bcb39d5e44d7afe0bb0bd4db7061",
            "2dd4a549a0cd498b8df7adaf812ea46d",
            "92272c1a5d5c4737ab8f9c31d78d522d",
            "1b24f208beb440f69c3cd5c9de7b6963",
            "b5e55fcdd88249eeacc4e4f3114cad72",
            "f0f10275037a471cb8fbecb1ada72d1c"
          ]
        },
        "id": "q2-Ix_ModtSh",
        "outputId": "dbd2af9d-32b4-4a9c-ba61-1e6d8952e834"
      },
      "source": [
        "create_matrices(\"/content/ud-treebanks-v2.7/UD_English-EWT/en_ewt-ud-train.conllu\", punctuation=True)\n",
        "create_matrices(\"/content/ud-treebanks-v2.7/UD_English-EWT/en_ewt-ud-train.conllu\", punctuation=False)\n",
        "create_matrices(\"/content/ud-treebanks-v2.7/UD_English-EWT/en_ewt-ud-dev.conllu\", punctuation=True)\n",
        "create_matrices(\"/content/ud-treebanks-v2.7/UD_English-EWT/en_ewt-ud-dev.conllu\", punctuation=False)\n",
        "create_matrices(\"/content/ud-treebanks-v2.7/UD_English-EWT/en_ewt-ud-test.conllu\", punctuation=True)\n",
        "create_matrices(\"/content/ud-treebanks-v2.7/UD_English-EWT/en_ewt-ud-test.conllu\", punctuation=False)"
      ],
      "execution_count": null,
      "outputs": [
        {
          "output_type": "display_data",
          "data": {
            "application/vnd.jupyter.widget-view+json": {
              "model_id": "38623e092cfd40fcbff02bb5bf78e4a9",
              "version_major": 2,
              "version_minor": 0
            },
            "text/plain": [
              "HBox(children=(FloatProgress(value=0.0, max=247689.0), HTML(value='')))"
            ]
          },
          "metadata": {
            "tags": []
          }
        }
      ]
    },
    {
      "cell_type": "markdown",
      "metadata": {
        "id": "HrNSfCSKAPzf"
      },
      "source": [
        "## Dataset Class for EWT"
      ]
    },
    {
      "cell_type": "code",
      "metadata": {
        "id": "307nZaVzWsB3"
      },
      "source": [
        "import torch \n",
        "from torch.utils.data import Dataset\n",
        "import numpy as np\n",
        "from os.path import join\n",
        "from os import listdir\n",
        "\"\"\"\n",
        "PennDP: a Dataset class for the Penn TreeBank Dependency Parsed Dataset\n",
        "path: path to treebank_3 folder\n",
        "corpus_name: one of 'wsj' or 'brown' (optional, default 'wsj')\n",
        "split: whether we want a 'train', 'val' or 'test' split for the data\n",
        "\"\"\"\n",
        "\n",
        "class EWT(Dataset):\n",
        "\n",
        "    def __init__(self, path, split='train', punctuation=True, tokenizer=None):\n",
        "        super().__init__()\n",
        "        # We look for all samples in folder\n",
        "        self.sample_ids = []\n",
        "        self.sample_sentences = []\n",
        "        self.sample_matrices = []\n",
        "        self.sample_tokens = []\n",
        "        self.tokenizer = tokenizer\n",
        "        fullpath = path\n",
        "        matrices = \"en_ewt-ud-{}_{}_.npy\".format(split, \"punct\" if punctuation else 'nopunct')\n",
        "        sentences= \"en_ewt-ud-{}_{}_.txt\".format(split, \"punct\" if punctuation else 'nopunct')\n",
        "        \n",
        "        # read sentences\n",
        "        sentence_path = join(path, sentences)\n",
        "        # read matrices\n",
        "        matrix_path = join(path, matrices)\n",
        "        \n",
        "        sentence_file = open(sentence_path, \"r\")\n",
        "        matrix_file = np.load(matrix_path, allow_pickle=True)\n",
        "        lines = sentence_file.read().splitlines()\n",
        "        sentence_file.close()\n",
        "        # if available, tokenize sentences\n",
        "        if self.tokenizer is not None:\n",
        "            examples = tokenizer(lines, \n",
        "                                add_special_tokens=True,\n",
        "                                truncation=True)['input_ids']\n",
        "            examples =[torch.tensor(e, dtype=torch.long) for e in examples]\n",
        "            self.sample_tokens.extend(examples)\n",
        "\n",
        "        lines = [line.split(\" \") for line in lines]\n",
        "        \n",
        "        for line in lines:\n",
        "            self.sample_sentences.append(line)\n",
        "        for m in matrix_file:\n",
        "            self.sample_matrices.append(m)\n",
        "        \n",
        "\n",
        "    def __len__(self):\n",
        "        return len(self.sample_sentences)\n",
        "\n",
        "    def __getitem__(self, id):\n",
        "        if self.tokenizer is None:\n",
        "            return self.sample_sentences[id], self.sample_matrices[id].transpose()\n",
        "        else:\n",
        "            return self.sample_sentences[id], self.sample_matrices[id].transpose(), self.sample_tokens[id]\n",
        "    \n"
      ],
      "execution_count": 3,
      "outputs": []
    },
    {
      "cell_type": "code",
      "metadata": {
        "id": "YibZSuow_mLV"
      },
      "source": [
        "ds = EWT(\"ewt_proc\", \"train\", punctuation=False)"
      ],
      "execution_count": 6,
      "outputs": []
    },
    {
      "cell_type": "code",
      "metadata": {
        "id": "mRtu5r1s_tcq"
      },
      "source": [
        "ds[-1]"
      ],
      "execution_count": null,
      "outputs": []
    }
  ]
}